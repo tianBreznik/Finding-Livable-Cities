{
  "nbformat": 4,
  "nbformat_minor": 0,
  "metadata": {
    "kernelspec": {
      "display_name": "Python 3",
      "language": "python",
      "name": "python3"
    },
    "language_info": {
      "codemirror_mode": {
        "name": "ipython",
        "version": 3
      },
      "file_extension": ".py",
      "mimetype": "text/x-python",
      "name": "python",
      "nbconvert_exporter": "python",
      "pygments_lexer": "ipython3",
      "version": "3.7.1"
    },
    "colab": {
      "name": "making_citydataset_textures.ipynb",
      "provenance": [],
      "collapsed_sections": [],
      "machine_shape": "hm"
    },
    "accelerator": "GPU"
  },
  "cells": [
    {
      "cell_type": "code",
      "metadata": {
        "colab": {
          "base_uri": "https://localhost:8080/"
        },
        "id": "_PLthihg1Pj0",
        "outputId": "2ae5c359-036f-4973-c2ef-9fe166e3a930"
      },
      "source": [
        "from google.colab import drive\n",
        "drive.mount('/content/drive', force_remount=True)"
      ],
      "execution_count": null,
      "outputs": [
        {
          "output_type": "stream",
          "text": [
            "Mounted at /content/drive\n",
            "Mounted at /content/drive\n"
          ],
          "name": "stdout"
        }
      ]
    },
    {
      "cell_type": "code",
      "metadata": {
        "scrolled": false,
        "id": "euM-TSeYJgl7"
      },
      "source": [
        "import pathlib\n",
        "import numpy as np\n",
        "import torch\n",
        "import torch.nn as nn\n",
        "import torch.nn.functional as F\n",
        "import torch.optim as optim\n",
        "import matplotlib.pyplot as plt\n",
        "from torch.utils.data.sampler import SubsetRandomSampler\n",
        "from torch.utils.data import DataLoader\n",
        "from torchvision import datasets, transforms\n",
        "import matplotlib.pyplot as plt\n",
        "%matplotlib inline\n",
        "import torch.nn as nn\n",
        "import tensorflow as tf"
      ],
      "execution_count": null,
      "outputs": []
    },
    {
      "cell_type": "code",
      "metadata": {
        "colab": {
          "base_uri": "https://localhost:8080/"
        },
        "id": "68SgLWOeDgvN",
        "outputId": "e9182ef4-bd98-47d0-bdd5-b867c03a0c48"
      },
      "source": [
        "import os\n",
        "\n",
        "PROJECT_PATH = os.path.dirname(os.path.dirname(os.path.realpath('__file__')))\n",
        "print(PROJECT_PATH)\n",
        "#DATAPATH = os.path.join(PROJECT_PATH,'content/drive/MyDrive','maps_data')\n",
        "DATAPATH = os.path.join(PROJECT_PATH,'content/drive/MyDrive','MapsDataCities')\n",
        "print(DATAPATH)"
      ],
      "execution_count": null,
      "outputs": [
        {
          "output_type": "stream",
          "text": [
            "/\n",
            "/content/drive/MyDrive/MapsDataCities\n"
          ],
          "name": "stdout"
        }
      ]
    },
    {
      "cell_type": "code",
      "metadata": {
        "colab": {
          "base_uri": "https://localhost:8080/"
        },
        "id": "VUXp8lUoDkKN",
        "outputId": "8616f9cd-98f3-4c5d-aaad-510986b1225b"
      },
      "source": [
        "data_root = pathlib.Path(DATAPATH)\n",
        "print(data_root)"
      ],
      "execution_count": null,
      "outputs": [
        {
          "output_type": "stream",
          "text": [
            "/content/drive/MyDrive/MapsDataCities\n"
          ],
          "name": "stdout"
        }
      ]
    },
    {
      "cell_type": "code",
      "metadata": {
        "id": "LciqKH6NDnig"
      },
      "source": [
        "import sys\n",
        "import os\n",
        "import tensorflow as tf\n",
        "import random\n",
        "\n",
        "\n",
        "def preprocess_image(image):\n",
        "    image = tf.io.decode_png(image, channels=3)\n",
        "    image = tf.image.resize(image, [128, 128])\n",
        "    image /= 255.0  # normalize to [0,1] range\n",
        "\n",
        "    return image\n",
        "\n",
        "\n",
        "def load_and_preprocess_image(path):\n",
        "    image = tf.io.read_file(path)\n",
        "    return preprocess_image(image)\n",
        "\n",
        "\n",
        "def get_filepaths(dirpath):\n",
        "    \"\"\"\n",
        "    Return paths of all files in a directory.\n",
        "    :param dirpath:\n",
        "    :return:\n",
        "    \"\"\"\n",
        "    data_root = pathlib.Path(dirpath)\n",
        "    all_image_paths = list(data_root.glob('*'))\n",
        "    all_image_paths = [str(path) for path in all_image_paths]\n",
        "    random.shuffle(all_image_paths)\n",
        "\n",
        "    return all_image_paths\n",
        "\n",
        "\n",
        "def load_dataset(dirpath):\n",
        "\n",
        "    all_image_paths = get_filepaths(dirpath)\n",
        "    path_ds = tf.data.Dataset.from_tensor_slices(all_image_paths)\n",
        "    image_ds = path_ds.map(load_and_preprocess_image, num_parallel_calls=tf.data.experimental.AUTOTUNE)\n",
        "\n",
        "    return image_ds"
      ],
      "execution_count": null,
      "outputs": []
    },
    {
      "cell_type": "code",
      "metadata": {
        "id": "5Q5N7S8zDrOk"
      },
      "source": [
        "ds = load_dataset(data_root)"
      ],
      "execution_count": null,
      "outputs": []
    },
    {
      "cell_type": "code",
      "metadata": {
        "id": "RjHRxcSg13ol"
      },
      "source": [
        "for id, element in enumerate(ds):\n",
        "  #print(element[0].shape)\n",
        "  if(id < 2):\n",
        "    #arr_elem = np.array(element)\n",
        "    #tf.keras.preprocessing.image.save_img('name.png',element,\"channels_last\")\n",
        "    element_image = tf.keras.preprocessing.image.array_to_img(element)\n",
        "    print(type(element_image))\n",
        "    element_image.save(\"namenew.png\")\n",
        "    #arr_elem = arr_elem.astype(np.uint8)\n",
        "    print(element.shape)\n",
        "    #image = Image.fromarray(arr_elem)\n",
        "    #image.save('name.png', format='PNG')"
      ],
      "execution_count": null,
      "outputs": []
    },
    {
      "cell_type": "code",
      "metadata": {
        "colab": {
          "base_uri": "https://localhost:8080/"
        },
        "id": "DftRhFdMhC9a",
        "outputId": "00dc44a3-d5da-4f57-ad25-8c835482feda"
      },
      "source": [
        ""
      ],
      "execution_count": null,
      "outputs": [
        {
          "output_type": "execute_result",
          "data": {
            "text/plain": [
              "TensorSpec(shape=(128, 128, 3), dtype=tf.float32, name=None)"
            ]
          },
          "metadata": {
            "tags": []
          },
          "execution_count": 47
        }
      ]
    },
    {
      "cell_type": "code",
      "metadata": {
        "colab": {
          "base_uri": "https://localhost:8080/"
        },
        "id": "gKXiK2KDD0OP",
        "outputId": "5061656c-8646-4aa5-b160-107ca75f4488"
      },
      "source": [
        "from sklearn.datasets import load_digits\n",
        "digits = load_digits()\n",
        "digits.data"
      ],
      "execution_count": null,
      "outputs": [
        {
          "output_type": "execute_result",
          "data": {
            "text/plain": [
              "array([[ 0.,  0.,  5., ...,  0.,  0.,  0.],\n",
              "       [ 0.,  0.,  0., ..., 10.,  0.,  0.],\n",
              "       [ 0.,  0.,  0., ..., 16.,  9.,  0.],\n",
              "       ...,\n",
              "       [ 0.,  0.,  1., ...,  6.,  0.,  0.],\n",
              "       [ 0.,  0.,  2., ..., 12.,  0.,  0.],\n",
              "       [ 0.,  0., 10., ..., 12.,  1.,  0.]])"
            ]
          },
          "metadata": {
            "tags": []
          },
          "execution_count": 10
        }
      ]
    },
    {
      "cell_type": "code",
      "metadata": {
        "id": "9u_tNADrDtLE"
      },
      "source": [
        "type(ds.data)"
      ],
      "execution_count": null,
      "outputs": []
    },
    {
      "cell_type": "code",
      "metadata": {
        "colab": {
          "base_uri": "https://localhost:8080/"
        },
        "id": "pyo2xf4MB0d-",
        "outputId": "aaf1dedf-e8c4-423e-f008-9cfe39ad8304"
      },
      "source": [
        "from google.colab import drive\n",
        "drive.mount('/content/drive', force_remount=True)"
      ],
      "execution_count": null,
      "outputs": [
        {
          "output_type": "stream",
          "text": [
            "Mounted at /content/drive\n"
          ],
          "name": "stdout"
        }
      ]
    },
    {
      "cell_type": "code",
      "metadata": {
        "scrolled": true,
        "id": "IkmgwQYpJgmF",
        "colab": {
          "base_uri": "https://localhost:8080/"
        },
        "outputId": "d1dc4d2c-02d5-470f-cd5d-639d2123fe92"
      },
      "source": [
        "len(all_rows)"
      ],
      "execution_count": null,
      "outputs": [
        {
          "output_type": "stream",
          "text": [
            "16\n"
          ],
          "name": "stdout"
        }
      ]
    },
    {
      "cell_type": "code",
      "metadata": {
        "id": "2x-8YWJZJgmH",
        "colab": {
          "base_uri": "https://localhost:8080/"
        },
        "outputId": "aaf49fd0-b017-4eb1-f7a7-52d9c98756fb"
      },
      "source": [
        "all_rows = []\n",
        "from tqdm import tqdm\n",
        "for id, element in tqdm(enumerate(ds), total=len(ds)):\n",
        "    if id % columns == 0:\n",
        "        all_rows.append([])\n",
        "    current = all_rows[len(all_rows) - 1]\n",
        "    current.append(element)"
      ],
      "execution_count": null,
      "outputs": [
        {
          "output_type": "stream",
          "text": [
            "100%|██████████| 15062/15062 [22:10<00:00, 11.32it/s]\n"
          ],
          "name": "stderr"
        }
      ]
    },
    {
      "cell_type": "code",
      "metadata": {
        "scrolled": true,
        "id": "dpjsAzbQJgmH"
      },
      "source": [
        "import math\n",
        "columns = math.floor(ss_width/image_width)"
      ],
      "execution_count": null,
      "outputs": []
    },
    {
      "cell_type": "code",
      "metadata": {
        "id": "NCiyZdQ-JgmI"
      },
      "source": [
        "ss_width = 2048"
      ],
      "execution_count": null,
      "outputs": []
    },
    {
      "cell_type": "code",
      "metadata": {
        "id": "DFdXDSA7JgmJ"
      },
      "source": [
        "image_height = 128"
      ],
      "execution_count": null,
      "outputs": []
    },
    {
      "cell_type": "code",
      "metadata": {
        "id": "LCZmzT9hJgmK"
      },
      "source": [
        "image_width = 128"
      ],
      "execution_count": null,
      "outputs": []
    },
    {
      "cell_type": "code",
      "metadata": {
        "scrolled": true,
        "id": "jb76cXgeJgmK",
        "colab": {
          "base_uri": "https://localhost:8080/"
        },
        "outputId": "0990538f-4fc6-49b7-8ba8-847c19ddcc15"
      },
      "source": [
        "len(all_rows)"
      ],
      "execution_count": null,
      "outputs": [
        {
          "output_type": "execute_result",
          "data": {
            "text/plain": [
              "942"
            ]
          },
          "metadata": {
            "tags": []
          },
          "execution_count": 105
        }
      ]
    },
    {
      "cell_type": "code",
      "metadata": {
        "id": "TOA_nNzdJgmL"
      },
      "source": [
        "ranges = []\n",
        "for i in range(math.ceil(len(all_rows) / columns)):\n",
        "    start = i * columns\n",
        "    end = (i + 1) * columns\n",
        "    if i == math.ceil(len(all_rows) / columns) - 1:\n",
        "        end = len(all_rows)\n",
        "    ranged = range(start, end)\n",
        "    ranges.append(ranged)"
      ],
      "execution_count": null,
      "outputs": []
    },
    {
      "cell_type": "code",
      "metadata": {
        "id": "NVpYRiblJgmL",
        "colab": {
          "base_uri": "https://localhost:8080/"
        },
        "outputId": "d3410992-ede4-4fba-f888-105b129767a5"
      },
      "source": [
        "ranges"
      ],
      "execution_count": null,
      "outputs": [
        {
          "output_type": "execute_result",
          "data": {
            "text/plain": [
              "[range(0, 16),\n",
              " range(16, 32),\n",
              " range(32, 48),\n",
              " range(48, 64),\n",
              " range(64, 80),\n",
              " range(80, 96),\n",
              " range(96, 112),\n",
              " range(112, 128),\n",
              " range(128, 144),\n",
              " range(144, 160),\n",
              " range(160, 176),\n",
              " range(176, 192),\n",
              " range(192, 208),\n",
              " range(208, 224),\n",
              " range(224, 240),\n",
              " range(240, 256),\n",
              " range(256, 272),\n",
              " range(272, 288),\n",
              " range(288, 304),\n",
              " range(304, 320),\n",
              " range(320, 336),\n",
              " range(336, 352),\n",
              " range(352, 368),\n",
              " range(368, 384),\n",
              " range(384, 400),\n",
              " range(400, 416),\n",
              " range(416, 432),\n",
              " range(432, 448),\n",
              " range(448, 464),\n",
              " range(464, 480),\n",
              " range(480, 496),\n",
              " range(496, 512),\n",
              " range(512, 528),\n",
              " range(528, 544),\n",
              " range(544, 560),\n",
              " range(560, 576),\n",
              " range(576, 592),\n",
              " range(592, 608),\n",
              " range(608, 624),\n",
              " range(624, 640),\n",
              " range(640, 656),\n",
              " range(656, 672),\n",
              " range(672, 688),\n",
              " range(688, 704),\n",
              " range(704, 720),\n",
              " range(720, 736),\n",
              " range(736, 752),\n",
              " range(752, 768),\n",
              " range(768, 784),\n",
              " range(784, 800),\n",
              " range(800, 816),\n",
              " range(816, 832),\n",
              " range(832, 848),\n",
              " range(848, 864),\n",
              " range(864, 880),\n",
              " range(880, 896),\n",
              " range(896, 912),\n",
              " range(912, 928),\n",
              " range(928, 942)]"
            ]
          },
          "metadata": {
            "tags": []
          },
          "execution_count": 21
        }
      ]
    },
    {
      "cell_type": "code",
      "metadata": {
        "scrolled": true,
        "id": "c8b44_xOJgmM",
        "colab": {
          "base_uri": "https://localhost:8080/"
        },
        "outputId": "cc38c8ac-77c0-4989-cc30-9a44d620432c"
      },
      "source": [
        "leftover = 2048 % columns\n",
        "row_padding = []\n",
        "for i in range(leftover):\n",
        "    row_padding.append(0)\n",
        "row_padding"
      ],
      "execution_count": null,
      "outputs": [
        {
          "output_type": "execute_result",
          "data": {
            "text/plain": [
              "[]"
            ]
          },
          "metadata": {
            "tags": []
          },
          "execution_count": 22
        }
      ]
    },
    {
      "cell_type": "code",
      "metadata": {
        "scrolled": true,
        "id": "ecA_ZACyJgmN",
        "colab": {
          "base_uri": "https://localhost:8080/"
        },
        "outputId": "05b4b298-c3dd-4916-c2e4-1ad374f1fbee"
      },
      "source": [
        "chunk_padding = []\n",
        "for i in range(2048 - columns * 28):\n",
        "    chunk_padding.append([])\n",
        "    current = chunk_padding[len(chunk_padding) - 1]\n",
        "    for p in range(2048):\n",
        "        current.append(0)\n",
        "len(chunk_padding)"
      ],
      "execution_count": null,
      "outputs": [
        {
          "output_type": "execute_result",
          "data": {
            "text/plain": [
              "1600"
            ]
          },
          "metadata": {
            "tags": []
          },
          "execution_count": 23
        }
      ]
    },
    {
      "cell_type": "code",
      "metadata": {
        "scrolled": false,
        "id": "_gC1ceqxJgmO",
        "colab": {
          "base_uri": "https://localhost:8080/"
        },
        "outputId": "e6eed0ba-9812-4534-f331-6209a3404a7a"
      },
      "source": [
        "type(all_rows[0][0])"
      ],
      "execution_count": null,
      "outputs": [
        {
          "output_type": "execute_result",
          "data": {
            "text/plain": [
              "tensorflow.python.framework.ops.EagerTensor"
            ]
          },
          "metadata": {
            "tags": []
          },
          "execution_count": 32
        }
      ]
    },
    {
      "cell_type": "code",
      "metadata": {
        "id": "qO4WjkIJJgmO",
        "colab": {
          "base_uri": "https://localhost:8080/"
        },
        "outputId": "6333bb65-5134-4133-80fd-3096953119b0"
      },
      "source": [
        "ss_width - len(ranges[0]) * 28"
      ],
      "execution_count": null,
      "outputs": [
        {
          "output_type": "execute_result",
          "data": {
            "text/plain": [
              "1600"
            ]
          },
          "metadata": {
            "tags": []
          },
          "execution_count": 25
        }
      ]
    },
    {
      "cell_type": "code",
      "metadata": {
        "colab": {
          "base_uri": "https://localhost:8080/"
        },
        "id": "hJ8ZqwXCoVtd",
        "outputId": "7329c408-e486-423c-a0e8-1a2062bcce82"
      },
      "source": [
        ""
      ],
      "execution_count": null,
      "outputs": [
        {
          "output_type": "execute_result",
          "data": {
            "text/plain": [
              "2048"
            ]
          },
          "metadata": {
            "tags": []
          },
          "execution_count": 96
        }
      ]
    },
    {
      "cell_type": "code",
      "metadata": {
        "colab": {
          "base_uri": "https://localhost:8080/"
        },
        "id": "Z-yI1G1zrbwf",
        "outputId": "424bc1cd-e67d-43dc-f2d7-467ed270ee11"
      },
      "source": [
        "len(ds)"
      ],
      "execution_count": null,
      "outputs": [
        {
          "output_type": "execute_result",
          "data": {
            "text/plain": [
              "15062"
            ]
          },
          "metadata": {
            "tags": []
          },
          "execution_count": 104
        }
      ]
    },
    {
      "cell_type": "code",
      "metadata": {
        "scrolled": true,
        "id": "rxm4eXThJgmP"
      },
      "source": [
        "import numpy as np\n",
        "from PIL import Image\n",
        "for range_counter in tqdm(range(56,len(ranges)), total=len(ranges)):\n",
        "    full_combined = []\n",
        "    for r in ranges[range_counter]:\n",
        "        row_imgs = all_rows[r]\n",
        "        cities = []\n",
        "        for i in range(len(row_imgs)):\n",
        "            city = np.array(row_imgs[i])\n",
        "            city *= 255.0\n",
        "            city = city.astype(np.uint8)\n",
        "            #element_image = tf.keras.preprocessing.image.array_to_img(row_imgs[i])\n",
        "            #tf.keras.preprocessing.image.save_img('name.png',element,\"channels_last\")\n",
        "            cities.append(city)\n",
        "        combined = []\n",
        "        for i in range(image_height):\n",
        "            combined.append([])\n",
        "            current = combined[len(combined) - 1]\n",
        "            for j in range(len(row_imgs)):\n",
        "                current.extend(cities[j][i])\n",
        "            padding_needed = ss_width - len(row_digits) * image_width\n",
        "            for p in range(padding_needed):\n",
        "                current.append(0)\n",
        "        full_combined.extend(combined)\n",
        "    #row_padding_needed = ss_width - len(full_combined)\n",
        "    #wtf = row_padding_needed\n",
        "    #for rp in range(row_padding_needed):\n",
        "    #    current = []\n",
        "    #    for p in range(ss_width):\n",
        "    #        current.append(0)\n",
        "    #    full_combined.append(current)\n",
        "    #test = full_combined\n",
        "    #rgba_combined = []\n",
        "    print(len(full_combined))\n",
        "    #for row in full_combined:\n",
        "    #    rgba_combined.append([])\n",
        "    #    current = rgba_combined[len(rgba_combined) - 1]\n",
        "    #    for item in row:\n",
        "            #print(item.shape)\n",
        "    #        current.append((item, item, item, 255))\n",
        "    #rgba_combined = np.asarray(rgba_combined)\n",
        "    #rgba_combined = rgba_combined.astype(np.uint8)\n",
        "    im = Image.fromarray(np.asarray(full_combined), mode='RGB')\n",
        "    name = '/content/drive/MyDrive/TextureAtlasses/citydataset_tile_solid_' + str(range_counter) + '.png'\n",
        "    im.save(name)"
      ],
      "execution_count": null,
      "outputs": []
    },
    {
      "cell_type": "code",
      "metadata": {
        "id": "FiXoi65XJgmP",
        "outputId": "0d14fa46-7502-4aaa-fdf2-370493975cdc"
      },
      "source": [
        "mnist.target[18378]"
      ],
      "execution_count": null,
      "outputs": [
        {
          "output_type": "execute_result",
          "data": {
            "text/plain": [
              "2.0"
            ]
          },
          "metadata": {
            "tags": []
          },
          "execution_count": 32
        }
      ]
    },
    {
      "cell_type": "code",
      "metadata": {
        "id": "Xqa5FkCsJgmS",
        "outputId": "affb0eac-b1cf-4765-fa58-ae8fcc73d40a"
      },
      "source": [
        "check = mnist.data[67620]\n",
        "check = numpy.asarray(check)\n",
        "check.resize(28,28)\n",
        "im = Image.fromarray(check, mode='L')\n",
        "im"
      ],
      "execution_count": null,
      "outputs": [
        {
          "output_type": "execute_result",
          "data": {
            "image/png": "[encoded data removed]",
            "text/plain": [
              "<PIL.Image.Image image mode=L size=28x28 at 0x10B5D2A58>"
            ]
          },
          "metadata": {
            "tags": []
          },
          "execution_count": 33
        }
      ]
    }
  ]
}