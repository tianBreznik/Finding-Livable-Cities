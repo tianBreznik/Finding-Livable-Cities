{
 "cells": [
  {
   "cell_type": "code",
   "execution_count": 17,
   "metadata": {
    "scrolled": false
   },
   "outputs": [
    {
     "name": "stderr",
     "output_type": "stream",
     "text": [
      "/usr/local/lib/python3.7/site-packages/sklearn/utils/deprecation.py:77: DeprecationWarning: Function fetch_mldata is deprecated; fetch_mldata was deprecated in version 0.20 and will be removed in version 0.22\n",
      "  warnings.warn(msg, category=DeprecationWarning)\n",
      "/usr/local/lib/python3.7/site-packages/sklearn/utils/deprecation.py:77: DeprecationWarning: Function mldata_filename is deprecated; mldata_filename was deprecated in version 0.20 and will be removed in version 0.22\n",
      "  warnings.warn(msg, category=DeprecationWarning)\n"
     ]
    }
   ],
   "source": [
    "from sklearn.datasets import fetch_mldata\n",
    "import PIL\n",
    "import numpy\n",
    "from PIL import Image\n",
    "import math\n",
    "mnist = fetch_mldata(\"MNIST original\")"
   ]
  },
  {
   "cell_type": "code",
   "execution_count": 18,
   "metadata": {
    "scrolled": true
   },
   "outputs": [
    {
     "data": {
      "text/plain": [
       "959"
      ]
     },
     "execution_count": 18,
     "metadata": {},
     "output_type": "execute_result"
    }
   ],
   "source": [
    "len(all_rows)"
   ]
  },
  {
   "cell_type": "code",
   "execution_count": 19,
   "metadata": {},
   "outputs": [],
   "source": [
    "all_rows = []\n",
    "for i in range(len(mnist.data)):\n",
    "    if i % columns == 0:\n",
    "        all_rows.append([])\n",
    "    current = all_rows[len(all_rows) - 1]\n",
    "    current.append(mnist.data[i])"
   ]
  },
  {
   "cell_type": "code",
   "execution_count": 20,
   "metadata": {
    "scrolled": true
   },
   "outputs": [],
   "source": [
    "columns = math.floor(ss_width/image_width)"
   ]
  },
  {
   "cell_type": "code",
   "execution_count": 21,
   "metadata": {},
   "outputs": [],
   "source": [
    "ss_width = 2048"
   ]
  },
  {
   "cell_type": "code",
   "execution_count": 22,
   "metadata": {},
   "outputs": [],
   "source": [
    "image_height = 28"
   ]
  },
  {
   "cell_type": "code",
   "execution_count": 23,
   "metadata": {},
   "outputs": [],
   "source": [
    "image_width = 28"
   ]
  },
  {
   "cell_type": "code",
   "execution_count": 24,
   "metadata": {
    "scrolled": true
   },
   "outputs": [
    {
     "data": {
      "text/plain": [
       "70000"
      ]
     },
     "execution_count": 24,
     "metadata": {},
     "output_type": "execute_result"
    }
   ],
   "source": [
    "len(mnist.data)"
   ]
  },
  {
   "cell_type": "code",
   "execution_count": 25,
   "metadata": {},
   "outputs": [],
   "source": [
    "ranges = []\n",
    "for i in range(math.ceil(len(all_rows) / columns)):\n",
    "    start = i * columns\n",
    "    end = (i + 1) * columns\n",
    "    if i == math.ceil(len(all_rows) / columns) - 1:\n",
    "        end = len(all_rows)\n",
    "    ranged = range(start, end)\n",
    "    ranges.append(ranged)"
   ]
  },
  {
   "cell_type": "code",
   "execution_count": 26,
   "metadata": {},
   "outputs": [
    {
     "data": {
      "text/plain": [
       "[range(0, 73),\n",
       " range(73, 146),\n",
       " range(146, 219),\n",
       " range(219, 292),\n",
       " range(292, 365),\n",
       " range(365, 438),\n",
       " range(438, 511),\n",
       " range(511, 584),\n",
       " range(584, 657),\n",
       " range(657, 730),\n",
       " range(730, 803),\n",
       " range(803, 876),\n",
       " range(876, 949),\n",
       " range(949, 959)]"
      ]
     },
     "execution_count": 26,
     "metadata": {},
     "output_type": "execute_result"
    }
   ],
   "source": [
    "ranges"
   ]
  },
  {
   "cell_type": "code",
   "execution_count": 27,
   "metadata": {
    "scrolled": true
   },
   "outputs": [
    {
     "data": {
      "text/plain": [
       "[0, 0, 0, 0]"
      ]
     },
     "execution_count": 27,
     "metadata": {},
     "output_type": "execute_result"
    }
   ],
   "source": [
    "leftover = 2048 % columns\n",
    "row_padding = []\n",
    "for i in range(leftover):\n",
    "    row_padding.append(0)\n",
    "row_padding"
   ]
  },
  {
   "cell_type": "code",
   "execution_count": 28,
   "metadata": {
    "scrolled": true
   },
   "outputs": [
    {
     "data": {
      "text/plain": [
       "4"
      ]
     },
     "execution_count": 28,
     "metadata": {},
     "output_type": "execute_result"
    }
   ],
   "source": [
    "chunk_padding = []\n",
    "for i in range(2048 - columns * 28):\n",
    "    chunk_padding.append([])\n",
    "    current = chunk_padding[len(chunk_padding) - 1]\n",
    "    for p in range(2048):\n",
    "        current.append(0)\n",
    "len(chunk_padding)"
   ]
  },
  {
   "cell_type": "code",
   "execution_count": 29,
   "metadata": {
    "scrolled": false
   },
   "outputs": [
    {
     "data": {
      "text/plain": [
       "73"
      ]
     },
     "execution_count": 29,
     "metadata": {},
     "output_type": "execute_result"
    }
   ],
   "source": [
    "len(all_rows[0])"
   ]
  },
  {
   "cell_type": "code",
   "execution_count": 30,
   "metadata": {},
   "outputs": [
    {
     "data": {
      "text/plain": [
       "4"
      ]
     },
     "execution_count": 30,
     "metadata": {},
     "output_type": "execute_result"
    }
   ],
   "source": [
    "ss_width - len(ranges[0]) * 28"
   ]
  },
  {
   "cell_type": "code",
   "execution_count": 31,
   "metadata": {
    "scrolled": true
   },
   "outputs": [],
   "source": [
    "for range_counter in range(len(ranges)):\n",
    "    full_combined = []\n",
    "    for r in ranges[range_counter]:\n",
    "        row_digits = all_rows[r]\n",
    "        reshaped = []\n",
    "        for i in range(len(row_digits)):\n",
    "            digit = row_digits[i]\n",
    "            digit.resize((28,28))\n",
    "            reshaped.append(digit)\n",
    "        combined = []\n",
    "        for i in range(image_height):\n",
    "            combined.append([])\n",
    "            current = combined[len(combined) - 1]\n",
    "            for j in range(len(row_digits)):\n",
    "                current.extend(reshaped[j][i])\n",
    "            padding_needed = ss_width - len(row_digits) * image_width\n",
    "            for p in range(padding_needed):\n",
    "                current.append(0)\n",
    "        full_combined.extend(combined)\n",
    "    row_padding_needed = ss_width - len(full_combined)\n",
    "    wtf = row_padding_needed\n",
    "    for rp in range(row_padding_needed):\n",
    "        current = []\n",
    "        for p in range(ss_width):\n",
    "            current.append(0)\n",
    "        full_combined.append(current)\n",
    "    test = full_combined\n",
    "    rgba_combined = []\n",
    "    for row in full_combined:\n",
    "        rgba_combined.append([])\n",
    "        current = rgba_combined[len(rgba_combined) - 1]\n",
    "        for item in row:\n",
    "            current.append((item, item, item, 255))\n",
    "    rgba_combined = numpy.asarray(rgba_combined)\n",
    "    rgba_combined = rgba_combined.astype(numpy.uint8)\n",
    "    im = Image.fromarray(numpy.asarray(rgba_combined), mode='RGBA')\n",
    "    name = 'mnist_tile_solid_' + str(range_counter) + '.png'\n",
    "    im.save(name)"
   ]
  },
  {
   "cell_type": "code",
   "execution_count": 32,
   "metadata": {},
   "outputs": [
    {
     "data": {
      "text/plain": [
       "2.0"
      ]
     },
     "execution_count": 32,
     "metadata": {},
     "output_type": "execute_result"
    }
   ],
   "source": [
    "mnist.target[18378]"
   ]
  },
  {
   "cell_type": "code",
   "execution_count": 33,
   "metadata": {},
   "outputs": [
    {
     "data": {
      "image/png": "[encoded data removed]",
      "text/plain": [
       "<PIL.Image.Image image mode=L size=28x28 at 0x10B5D2A58>"
      ]
     },
     "execution_count": 33,
     "metadata": {},
     "output_type": "execute_result"
    }
   ],
   "source": [
    "check = mnist.data[67620]\n",
    "check = numpy.asarray(check)\n",
    "check.resize(28,28)\n",
    "im = Image.fromarray(check, mode='L')\n",
    "im"
   ]
  }
 ],
 "metadata": {
  "kernelspec": {
   "display_name": "Python 3",
   "language": "python",
   "name": "python3"
  },
  "language_info": {
   "codemirror_mode": {
    "name": "ipython",
    "version": 3
   },
   "file_extension": ".py",
   "mimetype": "text/x-python",
   "name": "python",
   "nbconvert_exporter": "python",
   "pygments_lexer": "ipython3",
   "version": "3.7.1"
  }
 },
 "nbformat": 4,
 "nbformat_minor": 2
}
